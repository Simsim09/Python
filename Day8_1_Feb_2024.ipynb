{
  "nbformat": 4,
  "nbformat_minor": 0,
  "metadata": {
    "colab": {
      "provenance": []
    },
    "kernelspec": {
      "name": "python3",
      "display_name": "Python 3"
    },
    "language_info": {
      "name": "python"
    }
  },
  "cells": [
    {
      "cell_type": "code",
      "execution_count": 2,
      "metadata": {
        "id": "v3agCMwDCOIu"
      },
      "outputs": [],
      "source": [
        "class Student:\n",
        "  #properties\n",
        "  name=\"Jazz\"\n",
        "  rollno=1\n",
        "  age=21"
      ]
    },
    {
      "cell_type": "code",
      "source": [
        "girl=Student\n",
        "print(\"Student Name :\",girl.name)\n",
        "print(\"Student Rollno:\",girl.rollno)\n",
        "print(\"Student Age:\",girl.age)"
      ],
      "metadata": {
        "colab": {
          "base_uri": "https://localhost:8080/"
        },
        "id": "3f2G1natOSVD",
        "outputId": "b00e4d74-9d63-4353-c119-caa7e2315493"
      },
      "execution_count": 4,
      "outputs": [
        {
          "output_type": "stream",
          "name": "stdout",
          "text": [
            "Student Name : Jazz\n",
            "Student Rollno: 1\n",
            "Student Age: 21\n"
          ]
        }
      ]
    }
  ]
}